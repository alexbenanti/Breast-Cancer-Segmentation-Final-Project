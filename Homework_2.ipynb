{
  "nbformat": 4,
  "nbformat_minor": 0,
  "metadata": {
    "colab": {
      "provenance": [],
      "include_colab_link": true
    },
    "kernelspec": {
      "name": "python3",
      "display_name": "Python 3"
    },
    "language_info": {
      "name": "python"
    }
  },
  "cells": [
    {
      "cell_type": "markdown",
      "metadata": {
        "id": "view-in-github",
        "colab_type": "text"
      },
      "source": [
        "<a href=\"https://colab.research.google.com/github/alexbenanti/Breast-Cancer-Segmentation-Final-Project/blob/main/Homework_2.ipynb\" target=\"_parent\"><img src=\"https://colab.research.google.com/assets/colab-badge.svg\" alt=\"Open In Colab\"/></a>"
      ]
    },
    {
      "cell_type": "code",
      "execution_count": 1,
      "metadata": {
        "id": "aDfe3JXgvodA"
      },
      "outputs": [],
      "source": [
        "import numpy as np\n",
        "from sklearn.decomposition import PCA\n",
        "from sklearn.linear_model import LinearRegression\n",
        "import os.path\n",
        "import math\n",
        "import matplotlib.pyplot as plt"
      ]
    },
    {
      "cell_type": "markdown",
      "source": [
        "##Question 1(a)\n",
        "\n",
        "To find the resulting vectors in $\\mathbb{R}^k$ we first want to find the mean of our data $X$ (call it $\\bar{X}$) and compute $\\text{Cov}(X-\\bar{X})$. From this covariance matrix, we find the eigenvalues and eigenvectors. Then, our first $k$ principal components will be the $k$ eigenvectors that correspond to the $k$ largest eigenvalues (in descending order). Call this subset of eigenvectors $\\Lambda'_k$. Then, our reduced vectors in $\\mathbb{R}^k$ will be:\n",
        "\n",
        "$$X_{\\text{reduced}} = \\left(\\left(\\Lambda'_k\\right)^T(X-\\bar{X})^T\\right)^T $$"
      ],
      "metadata": {
        "id": "M8zyXryTZEww"
      }
    },
    {
      "cell_type": "markdown",
      "source": [
        "##Question 1(b)\n",
        "\n",
        "To do this, you can plot the singular values in a scree plot and, from this, notice each instance in which the slope changes. These instances indicate that the variance captured by each dimensions decreases. We should choose $k$ in accordance with how many of these \"drastic elbows\" we see (i.e. sharp changes). Once the elbows get closer to 180 degrees, though, that tells us that those further dimensions are probably not worth keeping in our reduced data matrix (given that the variance will be so little)."
      ],
      "metadata": {
        "id": "wL86sRDabZiM"
      }
    },
    {
      "cell_type": "markdown",
      "source": [
        "##Question 1(c)\n",
        "\n",
        "Let $v_1$ be the first principal direction, then, the amount of saple variance in the first principal direcion is calculated by the following:\n",
        "\n",
        "$$\\text{Sample Variance of First Principal Direction} = \\frac{v_1^T\\left(X^TX\\right)v_1}{n-1}$$"
      ],
      "metadata": {
        "id": "H2Nm6kAKeFn9"
      }
    },
    {
      "cell_type": "markdown",
      "source": [
        "##Question 2(a)\n",
        "\n",
        "For this problem, we first want to find $\\bar{X}$ which contains the average values of each column and subtract it from $X$. Then, we find the covariance matrix of $X-\\bar{X}$ and, from this, find the eigenvalues and eigenvectors of this covariance matrix. Then, the first principal component is the eigenvector that corresponds to the largest eigenvalue."
      ],
      "metadata": {
        "id": "nnIEssg6YO0j"
      }
    },
    {
      "cell_type": "code",
      "source": [
        "#Question 2a\n",
        "#find max eigenvector of the covariance matrix\n",
        "X = np.array([[-1,-1], [1,-1],[-1,0],[1,0],[-1,1],[1,1]])\n",
        "\n",
        "#center the data in the matrix X\n",
        "\n",
        "X_bar = np.mean(X, axis=0)\n",
        "\n",
        "X_twiddle = X-X_bar \n",
        "S = np.cov(X_twiddle, rowvar=False)\n",
        "w,v = (np.linalg.eig(S))\n",
        "max_eigenvalue_index = np.argmax(w)\n",
        "w_1 = v[:,max_eigenvalue_index]\n",
        "\n",
        "\n",
        "print('The first principal component is:',w_1)\n",
        "\n",
        "\n",
        "\n",
        "\n"
      ],
      "metadata": {
        "colab": {
          "base_uri": "https://localhost:8080/"
        },
        "id": "eui0oI-W0dwT",
        "outputId": "c986861f-a0d8-49dd-e298-2965df156ed6"
      },
      "execution_count": null,
      "outputs": [
        {
          "output_type": "stream",
          "name": "stdout",
          "text": [
            "The first principal component is: [1. 0.]\n"
          ]
        }
      ]
    },
    {
      "cell_type": "markdown",
      "source": [
        "To put it more cleanly, our first principal component is $$\\begin{bmatrix} 1 \\\\ 0 \\end{bmatrix}$$"
      ],
      "metadata": {
        "id": "KbTkTU24eqed"
      }
    },
    {
      "cell_type": "markdown",
      "source": [
        "##Question 2(b)##\n",
        "\n",
        "For this problem, we can use the following formula:\n",
        "\n",
        "$$y = ax+b$$\n",
        "\n",
        "where \n",
        "\n",
        "$$a = \\frac{\\sum_{i=0}^nx_iy_i - \\frac{\\sum_{i=0}^nx_i\\sum_{i=0}^ny_i}{n}}{\\sum_{i=0}^nx_i^2 - \\frac{\\sum_{i=0}^nx_i^2}{n}} $$\n",
        "\n",
        "and \n",
        "\n",
        "$$b = \\frac{\\sum_{i=0}^ny_i - b\\sum_{i=0}^nx_i}{n}$$"
      ],
      "metadata": {
        "id": "8wTKQ2P-WRaj"
      }
    },
    {
      "cell_type": "code",
      "source": [
        "#Question 2b\n",
        "#compute linear regression formula y= ax+b\n",
        "\n",
        "X = np.array([[-1,-1], [1,-1],[-1,0],[1,0],[-1,1],[1,1]])\n",
        "a = 0 \n",
        "\n",
        "def sum_of_xy(X):\n",
        "  xy = 0\n",
        "  for i in range(len(X)):\n",
        "    xy+= X[i,0]*X[i,1]\n",
        "  return xy\n",
        "\n",
        "def average_of_invd_sums(X):\n",
        "  x = 0\n",
        "  y = 0\n",
        "  for i in range(len(X)):\n",
        "    x+=X[i,0]\n",
        "    y+=X[i,1]\n",
        "  avg = (x*y)/(len(X))\n",
        "  return avg\n",
        "\n",
        "xy = sum_of_xy(X)\n",
        "\n",
        "avg_xy = average_of_invd_sums(X)\n",
        "\n",
        "print(xy)\n",
        "print(avg_xy)\n",
        "\n",
        "#Since both of these values are 0, we know that the slope is 0. \n",
        "\n",
        "\n",
        "\n",
        "sum_of_ys = 0\n",
        "#we dont need to sum our xs since we calculated the slope to be 0\n",
        "for i in range(len(X)):\n",
        "  sum_of_ys += X[i,1]\n",
        "\n",
        "b = sum_of_ys/len(X)\n",
        "\n",
        "print('Thus, our coefficients a and b are:', a,b)\n",
        "  \n",
        "\n"
      ],
      "metadata": {
        "colab": {
          "base_uri": "https://localhost:8080/"
        },
        "id": "tMIE4sy4SL0K",
        "outputId": "263543c5-ae05-448b-d7cd-17cd2e938f68"
      },
      "execution_count": null,
      "outputs": [
        {
          "output_type": "stream",
          "name": "stdout",
          "text": [
            "0\n",
            "0.0\n",
            "Thus, our coefficients a and b are: 0 0.0\n"
          ]
        }
      ]
    },
    {
      "cell_type": "markdown",
      "source": [
        "Thus, our \"affine\" function of $y$ in terms of $x$ is\n",
        "\n",
        "$$y = 0x + 0$$\n",
        "\n",
        "$$\\Rightarrow y = 0$$\n",
        "\n",
        "Thus, this function isn't really affine since it goes through the origin."
      ],
      "metadata": {
        "id": "cYFYqopiXwH9"
      }
    },
    {
      "cell_type": "markdown",
      "source": [
        "#Question 3(a)\n",
        "\n",
        "We repeat the same process we did in the last question"
      ],
      "metadata": {
        "id": "_5v2N7lhfUZx"
      }
    },
    {
      "cell_type": "code",
      "source": [
        "#Question 3a\n",
        "#find max eigenvector of the covariance matrix\n",
        "X = np.array([[-0.5,-1], [0.5,-1],[-0.5,0],[0.5,0],[-0.5,1],[0.5,1]])\n",
        "\n",
        "#center the data in the matrix X\n",
        "\n",
        "X_bar = np.mean(X, axis=0)\n",
        "\n",
        "\n",
        "X_twiddle = X-X_bar \n",
        "S = np.cov(X_twiddle, rowvar=False)\n",
        "w,v = (np.linalg.eig(S))\n",
        "max_eigenvalue_index = np.argmax(w)\n",
        "w_1 = v[:,max_eigenvalue_index]\n",
        "\n",
        "\n",
        "#first_pc = np.matmul(X_twiddle.transpose(), w_1)\n",
        "\n",
        "print('The first principal component is:',w_1)\n"
      ],
      "metadata": {
        "colab": {
          "base_uri": "https://localhost:8080/"
        },
        "id": "J30nBQBVfcRM",
        "outputId": "8a1cd719-1966-4a5e-815a-62ff9b344eea"
      },
      "execution_count": null,
      "outputs": [
        {
          "output_type": "stream",
          "name": "stdout",
          "text": [
            "The first principal component is: [0. 1.]\n"
          ]
        }
      ]
    },
    {
      "cell_type": "markdown",
      "source": [
        "Thus, our first principal component is \n",
        "\n",
        "$$\\begin{bmatrix}\n",
        "0\\\\\n",
        "1\n",
        "\\end{bmatrix}$$"
      ],
      "metadata": {
        "id": "3e_UjwL3fzYe"
      }
    },
    {
      "cell_type": "markdown",
      "source": [
        "##Question 3(b)\n",
        "\n",
        "Again, we repeat the same process as the last question:"
      ],
      "metadata": {
        "id": "tcntcR_bgB-s"
      }
    },
    {
      "cell_type": "code",
      "source": [
        "#Question 3b\n",
        "#compute linear regression formula y= ax+b\n",
        "\n",
        "X = np.array([[-1,-1], [1,-1],[-1,0],[1,0],[-1,1],[1,1]])\n",
        "a = 0 \n",
        "\n",
        "def sum_of_xy(X):\n",
        "  xy = 0\n",
        "  for i in range(len(X)):\n",
        "    xy+= X[i,0]*X[i,1]\n",
        "  return xy\n",
        "\n",
        "def average_of_invd_sums(X):\n",
        "  x = 0\n",
        "  y = 0\n",
        "  for i in range(len(X)):\n",
        "    x+=X[i,0]\n",
        "    y+=X[i,1]\n",
        "  avg = (x*y)/(len(X))\n",
        "  return avg\n",
        "\n",
        "xy = sum_of_xy(X)\n",
        "\n",
        "avg_xy = average_of_invd_sums(X)\n",
        "\n",
        "print(xy)\n",
        "print(avg_xy)\n",
        "\n",
        "#Since both of these values are 0, we know that the slope is 0. \n",
        "\n",
        "\n",
        "\n",
        "sum_of_ys = 0\n",
        "#we dont need to sum our xs since we calculated the slope to be 0\n",
        "for i in range(len(X)):\n",
        "  sum_of_ys += X[i,1]\n",
        "\n",
        "b = sum_of_ys/len(X)\n",
        "\n",
        "print('Thus, our coefficients a and b are:', a,b)\n",
        "  "
      ],
      "metadata": {
        "colab": {
          "base_uri": "https://localhost:8080/"
        },
        "id": "NTvpxuQ_g8nh",
        "outputId": "fcb49a79-03cd-43c3-cc69-668f23915209"
      },
      "execution_count": null,
      "outputs": [
        {
          "output_type": "stream",
          "name": "stdout",
          "text": [
            "0\n",
            "0.0\n",
            "Thus, our coefficients a and b are: 0 0.0\n"
          ]
        }
      ]
    },
    {
      "cell_type": "markdown",
      "source": [
        "Therefore, again, our linear regression function is:\n",
        "\n",
        "$$y = 0x + 0$$\n",
        "\n",
        "$$\\Rightarrow y = 0$$"
      ],
      "metadata": {
        "id": "xguuwcathGwi"
      }
    },
    {
      "cell_type": "markdown",
      "source": [
        "##Question 4\n",
        "\n",
        "The training error will never increase when we add a feature to the regression problem. While the training error might not increase, the test error almost certainly will because we have \"overfit\" the model.\n",
        "\n",
        "The training error will increse, however, when we use Ridge regression since we have a penalty term. Recall that the ridge regression formula is given by the following:\n",
        "\n",
        "$$R(\\mathbf{x}) = ||A\\mathbf{x} - \\mathbf{b}||_2^2 + \\delta^2||\\mathbf{x}||_2^2$$\n",
        "\n",
        "As our $\\delta^2$ term increases, the model's complexity will decrease which, in turn, will result in a higher training error."
      ],
      "metadata": {
        "id": "jqRz8FJblJaP"
      }
    },
    {
      "cell_type": "markdown",
      "source": [
        "##Question 5(a)\n",
        "\n",
        "The forecast of $A\\hat{x}$ will NOT change since all of the terms that correspond to the scaled feature throughout the system get scaled equally."
      ],
      "metadata": {
        "id": "jBFVprxqnVqQ"
      }
    },
    {
      "cell_type": "markdown",
      "source": [
        "##Question 5(b)\n",
        "\n",
        "This will have an impact on ridge regression since the regularization term will deem the \"lower-valued\" coefficient as relatively unimportant and, in turn, change the results of the regression. (Ridge regression brings lower-valued coefficients closer to 0). "
      ],
      "metadata": {
        "id": "YNQqWOu6Ug5X"
      }
    },
    {
      "cell_type": "markdown",
      "source": [
        "##Question 6\n",
        "\n",
        "We have $\\hat{x} = A^+b$. Since we are operating under the ordinary least squares assumptions that $m>n$ and $A$ is full rank, we have the following simplification:\n",
        "\n",
        "$$||\\hat{\\mathbf{x}} -\\mathbf{x} || = ||A^{+}\\mathbf{b} -\\mathbf{x}||$$\n",
        "\n",
        "$$= ||A^+(A\\mathbf{x}-\\mathbf{z})-\\mathbf{z}||$$\n",
        "\n",
        "$$=||A^+\\mathbf{z}||$$\n",
        "\n",
        "Now, from slide 12 of lecture 3, we have that \n",
        "\n",
        "$$\\mathbf{u}_1 = \\arg\\max_{||\\mathbf{u}||_2=1} ||A^T\\mathbf{u}||_2$$\n",
        "\n",
        "where $\\mathbf{u}_1$ is the left singular vector corresponding to the largest singular value of $A$. Thus, the direction of $\\mathbf{z}$ that produces the largest error $||\\mathbf{x} - \\hat{\\mathbf{x}}||$ is $\\mathbf{u}_1$. Therefore, this mens that the largest error will be defined as $||A^+\\mathbf{u}_1||$. "
      ],
      "metadata": {
        "id": "RU4hWQTNVRDL"
      }
    },
    {
      "cell_type": "markdown",
      "source": [
        "##Question 7\n",
        "\n",
        "For this problem, we will first show that the two vectors, when multiplied by the new $A_c$ yield the same result. Given our definition of $A_c$ (we'll call it $A_c^*$ with the additional fourth column, we have the following:\n",
        "\n",
        "$$A_c^* = \\begin{bmatrix}\n",
        "1 & a_1 & b_1 & b_1 \\\\\n",
        "1& a_2 & b_2 & b_2 \\\\\n",
        "\\vdots & \\vdots & \\vdots & \\vdots \\\\\n",
        "1 & a_m & b_m & b_m   \n",
        "\\end{bmatrix}$$\n",
        "\n",
        "It is sufficient to show that the first row of $A_c^*$ times the vectors a and b yields identical results:\n",
        "\n",
        "$\\underline{(a)}$\n",
        "\n",
        "$$\\begin{bmatrix}\n",
        "1 & a_1 & b_1 & b_1\n",
        "\\end{bmatrix}\\begin{bmatrix}\n",
        "1.98 \\\\\n",
        "2.09 \\\\\n",
        ".20 \\\\\n",
        ".88\n",
        "\\end{bmatrix} = 1.98 + 2.09a_1 + .20b_1 + .88b_1 = 1.98 + 2.09a_1 + 1.08b_1$$\n",
        "\n",
        "$\\underline{(b)}$\n",
        "\n",
        "$$\\begin{bmatrix}\n",
        "1 & a_1 & b_1 & b_1\n",
        "\\end{bmatrix}\\begin{bmatrix}\n",
        "1.98 \\\\\n",
        "2.09 \\\\\n",
        ".54 \\\\\n",
        ".54\n",
        "\\end{bmatrix} = 1.98 + 2.09a_1 + .54b_1 + .54b_1 = 1.98 + 2.09a_1 + 1.08b_1$$\n",
        "\n",
        "We can can see that, for every row of $A_c^*$ (call it $A_{c_i}^*$), we will have $A_{c_i}^*\\mathbf{x} = A_{c_i}^*\\mathbf{y}$ if the last two elements of $\\mathbf{x}$ and $\\mathbf{y}$ sum to the same number. It just so happens that our vectors described in (a) and (b) meet this requirement. Thus, for both vectors, the value of $||A_c^*\\mathbf{x}-\\mathbf{b}||_2^2$ will be the same. Thus, in order to find $$\\hat{\\mathbf{x}} = \\arg \\min_\\mathbf{x} ||A_c^*\\mathbf{x} - \\mathbf{b}||_2^2|| + \\lambda ||\\mathbf{x}||^2$$ between the two vectors, we simply have to find which norm is the smallest of the two. For notation purposes, we will call the vector denoted in (a) as $\\mathbf{a}$ and (b) as $\\mathbf{b}$:\n",
        "\n",
        "$$||\\mathbf{a}||^2 = (1.98)^2 + (2.09)^2 + (0.2)^2 + (0.88)^2 = 9.1029$$\n",
        "\n",
        "$$||\\mathbf{b}||^2 = (1.98)^2 + (2.09)^2 + (0.54)^2 + (0.54)^2 =8.8717$$\n",
        "\n",
        "Since $||\\mathbf{b}||^2 < ||\\mathbf{a}||^2$, we can conclude that the vector in choice (b) will be more likely to occur than the other. "
      ],
      "metadata": {
        "id": "8pIhOwXbZjY0"
      }
    },
    {
      "cell_type": "markdown",
      "source": [
        "##Question 8(a)\n",
        "\n",
        "We can see from the singular value decomposition, that $\\sigma_1 = 40$, $\\mathbf{u}_1 = \\begin{bmatrix}\n",
        "-0.4 \\\\\n",
        "-0.4 \\\\\n",
        "0.4 \\\\\n",
        "0.4 \\\\\n",
        "0.4 \\\\\n",
        "-0.4\n",
        "\\end{bmatrix}$ and $\\mathbf{v}_1^T = \\begin{bmatrix} \n",
        "0.5 & 0.5 & -0.5 & -0.5\n",
        "\\end{bmatrix}$.\n",
        "\n",
        "With these defined we can now compute $\\mathbf{u}_1\\sigma_1\\mathbf{v}_1^T$:\n",
        "\n",
        "$$\\mathbf{u}_1\\sigma_1\\mathbf{v}_1^T = \\sigma_1\\mathbf{u}_1\\mathbf{v}_1^T$$\n",
        "\n",
        "$$= 40\\begin{bmatrix}\n",
        "-0.4 \\\\\n",
        "-0.4 \\\\\n",
        "0.4 \\\\\n",
        "0.4 \\\\\n",
        "0.4 \\\\\n",
        "-0.4\n",
        "\\end{bmatrix} \\begin{bmatrix} \n",
        "0.5 & 0.5 & -0.5 & -0.5\n",
        "\\end{bmatrix}$$\n",
        "\n",
        "$$=40\\begin{bmatrix}\n",
        "-0.2 & -0.2 & 0.2 & 0.2 \\\\\n",
        "-0.2 & -0.2 & 0.2 & 0.2 \\\\\n",
        "0.2 & 0.2 & -0.2 & -0.2 \\\\\n",
        "0.2 & 0.2 & -0.2 & -0.2 \\\\\n",
        "0.2 & 0.2 & -0.2 & -0.2 \\\\ \n",
        "-0.2 & -0.2 & 0.2 & 0.2\n",
        "\\end{bmatrix}$$\n",
        "\n",
        "$$= \\begin{bmatrix}\n",
        "-8 & -8 & 8 & 8 \\\\\n",
        "-8 & -8 & 8 & 8 \\\\\n",
        "8 & 8 & -8 & -8 \\\\\n",
        "8 & 8 & -8 & -8 \\\\\n",
        "8 & 8 & -8 & -8 \\\\ \n",
        "-8 & -8 & 8 & 8\n",
        "\\end{bmatrix}$$\n",
        "\n",
        "Therefore, the above matrix is the rank-1 approximation. "
      ],
      "metadata": {
        "id": "s-X_5R4nf3EB"
      }
    },
    {
      "cell_type": "markdown",
      "source": [
        "##Question 8(b)\n",
        "\n",
        "The low rank model helps us interpret what genre of movies people enjoy. Our matrix A was divided into the genres of super-hero movies and romance movies. We can interpret the rows of our rank-1 approximation as the movies corresponding to $A$ and the columns are the people corresponding to $A$. We can see that Bob and Molly have all negative entries for super-hero movies while Mary and Larry have positive entries for super-hero movies (the opposite is true for romance movies). Thus, the rank-1 approximation helps us see the trends of which types of movies people like or dislike in a clear and generalized manner. "
      ],
      "metadata": {
        "id": "EOdBxLZditi4"
      }
    },
    {
      "cell_type": "markdown",
      "source": [
        "##Question 8(c)\n",
        "\n",
        "For an initial value to impute for ? we can find the mean of all of Molly's known ratings and round it to the nearest integer. In this case, that would be $-1$. So, we have the new vector we will call $x$:\n",
        "\n",
        "$$x = \\begin{bmatrix}\n",
        "-10 \\\\\n",
        "-1 \\\\\n",
        "8 \\\\\n",
        "10\n",
        "\\end{bmatrix}$$\n",
        "So, we can project it onto the vector $v_1^T$ to get the following:\n",
        "\n",
        "$$\\text{proj}_{v_1^T}(x) = \\frac{v_1^T\\cdot x}{||v_1^T||^2}v_1^T$$\n",
        "\n",
        "$$\\Rightarrow \\text{proj}_{v_1^T}(x) = -14.5v_1^T$$\n",
        "\n",
        "$$\\Rightarrow \\text{proj}_{v_1^T}(x) = \\begin{bmatrix}\n",
        "-7.25 \\\\\n",
        "-7.25 \\\\\n",
        "7.25 \\\\\n",
        "7.25\n",
        "\\end{bmatrix}$$\n",
        "\n",
        "We can now extract the second element of this vector as it corresponds to Molly and round it to the nearest integer and make this our imputed value in the new vector for X-Men 7. Therefore, the new estimate of Molly's rating is $-7$ and, so, I predict that she will not enjoy the movie. \n",
        "\n"
      ],
      "metadata": {
        "id": "Dag6y2kMk4rP"
      }
    },
    {
      "cell_type": "markdown",
      "source": [
        "##Question 8(d)\n",
        "\n",
        "Right now, for any rating $x$, we have the following:\n",
        "\n",
        "$$-10\\leq x \\leq 10$$\n",
        "\n",
        "Performing simply algebra, we have the following:\n",
        "\n",
        "$$0\\leq x+10 \\leq 20$$\n",
        "\n",
        "$$\\Rightarrow 0\\leq \\frac{x+10}{2} \\leq 10$$\n",
        "\n",
        "Thus, for every rating $x$, we will add 10 to it and divide that by 2. I.e., our new ratings $y_{ij}$ between 0 and 10 will be determined by the following formula:\n",
        "\n",
        "$$y_{ij} = \\frac{x_{ij} + 10}{2}$$"
      ],
      "metadata": {
        "id": "_VM-AeC3k6-x"
      }
    },
    {
      "cell_type": "markdown",
      "source": [
        "##Question 9(a)"
      ],
      "metadata": {
        "id": "PvkcF4lWQgfp"
      }
    },
    {
      "cell_type": "code",
      "source": [
        "#Question 9a\n",
        "from __future__ import print_function\n",
        "import pandas as pd\n",
        "\n",
        "\n",
        "\"\"\"\n",
        "Loads financial data as a pandas dataframe\n",
        "\"\"\"\n",
        "def load_dataframe(filename) :\n",
        "    return pd.read_csv(filename,index_col=0)\n",
        "\n",
        "\"\"\"\n",
        "Loads financial data as a tuple: names,data.  \n",
        "names is a list of the stock names represented in each column.\n",
        "data is a 2d numpy array.  Each row of data corresponds to a trading day.\n",
        "data[i,j] is the price (technically the adjusted closing price) of \n",
        "instrument names[j] on the ith day.  The days are ordered chronologically.\n",
        "\"\"\"\n",
        "def load_data(filename) :\n",
        "    df = pd.read_csv(filename,index_col=0)\n",
        "    names = df.columns.values.tolist()\n",
        "    data = df.values\n",
        "    return names,data\n",
        "\n",
        "\"\"\"\n",
        "Given a 1d numpy array vec of n values, and a list of n names,\n",
        "prints the values and their associated names.\n",
        "\"\"\"\n",
        "def pretty_print(vec,names) :\n",
        "    print(pd.DataFrame(vec,names,['']).transpose())\n",
        "\n",
        "\"\"\"\n",
        "Given a 1d numpy array vec of n values, and a list of n names,\n",
        "prints the values and their associated names in a LaTeX friendly\n",
        "format.\n",
        "\"\"\"\n",
        "def pretty_print_latex(vec,names,num_col=6) :\n",
        "    print(\"\\\\begin{center}\")\n",
        "    print(\"\\\\begin{tabular}{c\"+(\"|c\"*(num_col-1))+\"}\")\n",
        "    for i in range(0,len(names),num_col) :\n",
        "        start = True\n",
        "        for j in range(i,min(i+num_col,len(names))) :\n",
        "            if not start :\n",
        "                print(\" & \",end='')\n",
        "            start = False\n",
        "            print(names[j],end='')\n",
        "        print(\"\\\\\\\\\")\n",
        "        start = True\n",
        "        for j in range(i,min(i+num_col,len(names))) :\n",
        "            if not start :\n",
        "                print(\" & \",end='')\n",
        "            start = False\n",
        "            print(\"%.04f\"%vec[j],end='')\n",
        "        print(\"\\\\\\\\\")\n",
        "        if i+num_col < len(names) :\n",
        "            print(\"\\\\hline\")\n",
        "    print(\"\\\\end{tabular}\")\n",
        "    print(\"\\\\end{center}\")\n",
        "\n",
        "def main() :\n",
        "    names,data = load_data('stockprices.csv')\n",
        "    print(\"# of stocks = %d, # of days = %d\"%(data.shape[1],data.shape[0]))\n",
        "    pretty_print(data[0,:],names)\n",
        "    #pretty_print_latex(data[0,:],names)\n",
        "\n",
        "if __name__ == \"__main__\": \n",
        "    main()\n",
        "\n",
        "\n"
      ],
      "metadata": {
        "colab": {
          "base_uri": "https://localhost:8080/"
        },
        "id": "k-pUC_iV6GgG",
        "outputId": "d5203619-3dd6-49fd-b2fe-ccc2dbdff16e"
      },
      "execution_count": 2,
      "outputs": [
        {
          "output_type": "stream",
          "name": "stdout",
          "text": [
            "# of stocks = 18, # of days = 433\n",
            "        aapl       amzn       msft        goog        xom        apc  \\\n",
            "  101.790649  636.98999  52.433533  741.840027  72.740799  48.801582   \n",
            "\n",
            "        cvx          c          gs       jpm         aet        jnj  \\\n",
            "  82.577927  50.149845  172.800156  61.18005  107.291946  95.826782   \n",
            "\n",
            "        dgx         spy        xlf        sso   sds    uso  \n",
            "  68.369064  194.027725  14.100877  60.724442  82.0  10.98  \n"
          ]
        }
      ]
    },
    {
      "cell_type": "code",
      "source": [
        "names, data = load_data('stockprices.csv')\n",
        "\n",
        "R = np.zeros((432,18))\n",
        "for i in range(len(R)):\n",
        "  R[i,:] = data[i+1,:] - data[i,:]\n",
        "\n",
        "\n",
        "\n",
        "pca = PCA(n_components=2)\n",
        "pca.fit(R)\n",
        "\n",
        "absolute_pc = abs(pca.components_)\n",
        "\n",
        "first = np.argsort(absolute_pc[0])\n",
        "second = np.argsort(absolute_pc[1])\n",
        "\n",
        "largest_indicies_first = first[-2:]\n",
        "largest_indicies_second = second[-2:]\n",
        "\n",
        "print(largest_indicies_first)\n",
        "print()\n",
        "print(largest_indicies_second)"
      ],
      "metadata": {
        "colab": {
          "base_uri": "https://localhost:8080/"
        },
        "id": "O-Oa4D9tQeWZ",
        "outputId": "40576af5-b464-4e19-9de2-445dfb7f37c6"
      },
      "execution_count": null,
      "outputs": [
        {
          "output_type": "stream",
          "name": "stdout",
          "text": [
            "[3 1]\n",
            "\n",
            "[1 3]\n"
          ]
        }
      ]
    },
    {
      "cell_type": "markdown",
      "source": [
        "From the code, I found the largest coefficients in absolute value of the first two principal directions are located at the indicies 1 and 3 which correspond to Amazon and Google respectively. I suspect that this is due to how much larger Amazon and Google have grown over the past 433 days as opposed to the other stocks. Additionally, at each day, both of their stock values are much larger than the other stocks in comparison. "
      ],
      "metadata": {
        "id": "aOJjYsnKWSdd"
      }
    },
    {
      "cell_type": "markdown",
      "source": [
        "##Question 9(b)"
      ],
      "metadata": {
        "id": "CFjJF647ZAaX"
      }
    },
    {
      "cell_type": "code",
      "source": [
        "#df = pd.read_csv('stockprices.csv',index_col=0)\n",
        "\n",
        "\n",
        "#df_new = (df-df.mean())/df.std()\n",
        "\n",
        "\n",
        "#names = df_new.columns.values.tolist()\n",
        "#data = df_new.values\n",
        "\n",
        "names, data = load_data('stockprices.csv')\n",
        "\n",
        "\n",
        "\n",
        "\n",
        "\n",
        "R = np.zeros((432,18))\n",
        "for i in range(len(R)):\n",
        "  R[i,:] = data[i+1,:] - data[i,:]\n",
        "\n",
        "R_centered =  np.zeros((432,18))\n",
        "for i in range(len(R[0])):\n",
        "  R_centered[:,i] = (R[:,i] - R[:,i].mean())\n",
        "  R_centered[:,i] = R_centered[:,i]/R_centered[:,i].std()\n",
        "\n",
        "\n",
        "\n",
        "pca1 = PCA(n_components=2)\n",
        "pca1.fit(R_centered)\n",
        "\n",
        "absolute_pc = abs(pca1.components_)\n",
        "\n",
        "first = np.argsort(absolute_pc[0])\n",
        "second = np.argsort(absolute_pc[1])\n",
        "\n",
        "largest_indicies_first = first[-2:]\n",
        "largest_indicies_second = second[-2:]\n",
        "\n",
        "print(largest_indicies_first)\n",
        "print()\n",
        "print(largest_indicies_second)\n",
        "\n"
      ],
      "metadata": {
        "colab": {
          "base_uri": "https://localhost:8080/"
        },
        "id": "_ZwDSsH2ZCgw",
        "outputId": "4fd98308-fd04-4214-dd69-45a205a5d771"
      },
      "execution_count": 30,
      "outputs": [
        {
          "output_type": "stream",
          "name": "stdout",
          "text": [
            "[15 13]\n",
            "\n",
            "[17  3]\n"
          ]
        }
      ]
    },
    {
      "cell_type": "markdown",
      "source": [
        "Now that we standardized the data, we are able to remove any bias from our data that stems for scaling. We can notice in the original data that the Google and Amazon stocks have much higher stock values per day, which, falsely, makes PCA assume that these are the stocks contributing to the maximal amount of variance. When we standardize the data, though, this bias is lost. From the first principal direction of our newly standardized data, we have that the two largest components are indexed at 13 and 15, this means that the two most influential stocks in the first principal direction of the standardized data matrix were SPY and SSO. These are both directly correlated to the S&P 500, which tells me that, over the past 433 days there must have been some major change in the S&P 500 that contributed to the maximal variance of the data. \n",
        "\n",
        "In terms of the second principal direction, the two largest components are 3 and 17. This means that the two most influential stocks in this direction are Google and USO. Thus, these stocks must have also had some sort of significant change as their returns also significantly contribute to the maximal amount of variance in the data. This means that, despite the scaling factor, Google is still very influential in the overall variance even. "
      ],
      "metadata": {
        "id": "r-LyB42k7f6X"
      }
    },
    {
      "cell_type": "markdown",
      "source": [
        "##Question 9(c)\n",
        "\n",
        "The code for this problem is below. Here, we are assuming that $x_i$ is the covariance (variance) of the $i$-th stock return. We can describe $y$ as a random variable made of the sum of independent random variables $x_i$, like the following (we assume they're independent):\n",
        "\n",
        "$$y = a_1x_1 + \\cdots a_{18}x_{18}$$\n",
        "\n",
        "Thus, we have the following:\n",
        "\n",
        "$$\\text{Var}(y) = \\text{Var}(a_1x_1 + \\cdots a_{18}x_{18})$$\n",
        "\n",
        "$$\\Rightarrow \\text{Var}(y) = \\text{Var}(a_1x_1) +\\cdots + \\text{Var}(a_{18}x_{18})$$\n",
        "\n",
        "$$\\Rightarrow \\text{std}(y) = \\sqrt{a_1^2\\text{Var}(x_1) +\\cdots+ a_{18}^2\\text{Var}(x_{18})}$$\n",
        "\n",
        "So, we compute this below using code:"
      ],
      "metadata": {
        "id": "LMuuCpMMuLS2"
      }
    },
    {
      "cell_type": "code",
      "source": [
        "names, data = load_data('stockprices.csv')\n",
        "#setting ddof to one means we are dealing with sample covariance\n",
        "\n",
        "\n",
        "\n",
        "\n",
        "#names = df_new.columns.values.tolist()\n",
        "#data = df_new.values\n",
        "\n",
        "R = np.zeros((432,18))\n",
        "for i in range(len(R)):\n",
        "  R[i,:] = data[i+1,:] - data[i,:]\n",
        "\n",
        "\n",
        "\n",
        "#print(data[1,:])\n",
        "\n",
        "\n",
        "\n",
        "covariance_matrix = np.cov(R.transpose(), ddof=1)\n",
        "\n",
        "\n",
        "\n",
        "var_y=0\n",
        "for i in range(len(covariance_matrix)):\n",
        "  if i == 0 or i == 1 or i == 2 or i==3:\n",
        "    var_y+= (200**2)*covariance_matrix[i,i]\n",
        "  else:\n",
        "    var_y+= (100**2)*covariance_matrix[i,i]\n",
        "\n",
        "std_y = np.sqrt(var_y)\n",
        "\n",
        "print('The standard deviation of my 1 day portfolio returns is:',std_y)\n"
      ],
      "metadata": {
        "colab": {
          "base_uri": "https://localhost:8080/"
        },
        "id": "gvOswCyVuV6-",
        "outputId": "5f84e28b-7a7d-4db6-d920-6c08c3930f03"
      },
      "execution_count": 4,
      "outputs": [
        {
          "output_type": "stream",
          "name": "stdout",
          "text": [
            "The standard deviation of my 1 day portfolio returns is: 2914.711756349476\n"
          ]
        }
      ]
    },
    {
      "cell_type": "markdown",
      "source": [
        "Thus, we have $y$ is about $y = 2914.71$"
      ],
      "metadata": {
        "id": "zl7TId-ewR0W"
      }
    },
    {
      "cell_type": "markdown",
      "source": [
        "##Question 9(d)\n",
        "\n",
        "To find the probability, we first want the expectation of $y$, but, by linearity, we have:\n",
        "\n",
        "$$E[y] = a_1E[x_1] + \\cdots + a_{18}E[x_{18}]$$\n",
        "\n",
        "Thus, we will have that $y \\sim N(E[y], \\text{std}(y))$. Thus, we can use Python to both compute the expected value of $y$ and, also, find $P(y\\leq -1000)$ using the cdf function of scipy.stats.norm:"
      ],
      "metadata": {
        "id": "fozER9zUwai2"
      }
    },
    {
      "cell_type": "code",
      "source": [
        "from scipy.stats import norm\n",
        "\n",
        "\n",
        "special_stocks = [0,1,2,3]\n",
        "mean_y = 0\n",
        "for i in range(len(R[0])):\n",
        "  if i in special_stocks:\n",
        "    mean_y+= 200*R[:,i].mean()\n",
        "  else:\n",
        "    mean_y+=100*R[:,i].mean()\n",
        "\n",
        "probability_of_y = norm.cdf(-1000, loc= mean_y, scale = std_y)\n",
        "\n",
        "print(probability_of_y)"
      ],
      "metadata": {
        "colab": {
          "base_uri": "https://localhost:8080/"
        },
        "id": "Ggqek4scil1J",
        "outputId": "f08b9019-4513-4b23-afa3-4b90ee33a85f"
      },
      "execution_count": 131,
      "outputs": [
        {
          "output_type": "stream",
          "name": "stdout",
          "text": [
            "0.32081680514810684\n"
          ]
        }
      ]
    },
    {
      "cell_type": "markdown",
      "source": [
        "Thus, we have found that $P(y\\leq -1000) \\approx 0.3208$."
      ],
      "metadata": {
        "id": "6A6pp-G2mbvS"
      }
    },
    {
      "cell_type": "markdown",
      "source": [
        "##Question 10(a)\n",
        "\n",
        "First, we find the least squares solution of $\\mathbf{x}$. Using our standard formula, we have:\n",
        "\n",
        "$$\\hat{\\mathbf{x}} = (\\mathbf{h}^T\\mathbf{h})^{-1}\\mathbf{h}\\mathbf{w}$$\n",
        "\n",
        "However, we can note that $\\mathbf{h}^T\\mathbf{h} = ||\\mathbf{h}||_2^2$, thus, our solution reduces to the following:\n",
        "\n",
        "$$\\hat{\\mathbf{x}} = \\frac{\\mathbf{h}\\mathbf{w}}{||\\mathbf{h}||_2^2}$$\n",
        "\n",
        "Since $\\mathbf{h}$ and $\\mathbf{w}$ are both the same length vectors, we can see that $\\hat{\\mathbf{x}}$ will be a scalar. \n",
        "\n",
        "In terms of finding the least-squares estimates of $\\mathbf{y_1}$ and $\\mathbf{y_0}$, we can use the following formulas based on the definition of the least squares estimator:\n",
        "\n",
        "$$\\hat{\\mathbf{y}_1} = \\hat{\\mathbf{p}_1}$$\n",
        "\n",
        "where:\n",
        "\n",
        "$$\\hat{\\mathbf{p}} = (\\mathbf{h}_c^T\\mathbf{h}_c)^{-1}\\mathbf{h_c}^T\\mathbf{w} $$\n",
        "\n",
        "\n",
        "where $\\mathbf{h}_c$ is the vector $\\mathbf{h}$ with an added column of 1's to the end and $p$ is a vector in $\\mathbb{R}^2$. By adding this column of 1's, we are able to maximize for an intercept as well. The subscript on the bottom right means that $\\hat{\\mathbf{y}}_1$ will be the first element of the resulting vector. \n",
        "\n",
        "\n",
        "Now, for $\\hat{\\mathbf{y}_0}$ we have:\n",
        "\n",
        "$$\\hat{\\mathbf{y}_0} = \\begin{bmatrix}\n",
        "\\hat{\\mathbf{p}_2} \\\\\n",
        "\\vdots \\\\\n",
        "\\hat{\\mathbf{p}_2}\n",
        "\\end{bmatrix}\n",
        "$$\n",
        "\n",
        "Where, in this case, the esimator is a vector in $\\mathbb{R}^m$ where all of the elements are the second element of the minimized $\\mathbf{p}$. "
      ],
      "metadata": {
        "id": "U4yO3Lt-6emR"
      }
    },
    {
      "cell_type": "markdown",
      "source": [
        "##Question 10(b)\n",
        "\n",
        "We add an interecept so that our model can capture every linear pattern. On the other hand, if we had no intercept, our linear model would only be able to accurately capture linear relationships that have a trend that passes through the origin. The plot below represents a dataset where adding an intercept is a good idea:\n",
        "\n",
        "\n"
      ],
      "metadata": {
        "id": "g8TXcY4MpFOz"
      }
    },
    {
      "cell_type": "code",
      "source": [
        "X = np.array([1,2,3,4,5,6,7])\n",
        "\n",
        "Y = np.array([13,9,11,9,6,5,1])\n",
        "\n",
        "plt.plot(X,Y, 'ro')\n",
        "plt.xlabel('x')\n",
        "plt.ylabel('y')\n",
        "plt.title('x vs y')\n",
        "plt.show()"
      ],
      "metadata": {
        "colab": {
          "base_uri": "https://localhost:8080/",
          "height": 300
        },
        "id": "uTtT24X8raBT",
        "outputId": "dc336bcc-a9bc-43e9-e4b9-13f919c95464"
      },
      "execution_count": null,
      "outputs": [
        {
          "output_type": "display_data",
          "data": {
            "text/plain": [
              "<Figure size 432x288 with 1 Axes>"
            ],
            "image/png": "[encoded data removed]"
          },
          "metadata": {
            "needs_background": "light"
          }
        }
      ]
    },
    {
      "cell_type": "markdown",
      "source": [
        "As we can see, if we were to fit the most accurate line possible to this data, it would not pass through the origin. "
      ],
      "metadata": {
        "id": "j-Eb_Z-OsZjv"
      }
    },
    {
      "cell_type": "markdown",
      "source": [
        "##Question 10(c)\n",
        "\n",
        "We implement our answer from part (a) into the heights_weights.py code"
      ],
      "metadata": {
        "id": "mvAMkGJhQkmY"
      }
    },
    {
      "cell_type": "code",
      "source": [
        "plt.close(\"all\")\n",
        "plt.rcParams['xtick.major.pad']='8'\n",
        "plt.rcParams['ytick.major.pad']='8'\n",
        "\n",
        "### CHANGE PATH TO WHEREVER YOU SAVE THE DATA FILES ### \n",
        "data = np.loadtxt(\"heights_weights.txt\") \n",
        "\n",
        "n_train = 20000\n",
        "n_test = 1000\n",
        "\n",
        "# Randomly select training, test and validation sets\n",
        "np.random.shuffle(data)\n",
        "data_train = data[range(n_train),:]\n",
        "data_test = data[range(n_train, n_train+n_test),:]\n",
        "heights_train = data_train[:,1]\n",
        "weights_train = data_train[:,2]\n",
        "heights_test = data_test[:,1]\n",
        "weights_test = data_test[:,2]\n",
        "\n",
        "### INSERT CODE HERE ###\n",
        "# Hint: To fit model 1 use the expression you found directly\n",
        "# to fit model 2 you can use np.linalg.lstsq\n",
        "\n",
        "x_hat = (np.dot(heights_train, weights_train))/(np.linalg.norm(heights_train))**2\n",
        "\n",
        "weights_train_fixed = weights_train.reshape(-1,1)\n",
        "\n",
        "new_heights_train = np.vstack([heights_train, np.ones(len(heights_train))]).transpose()\n",
        "\n",
        "y_1_hat, y_0_hat= np.linalg.lstsq(new_heights_train, weights_train_fixed)[0]\n",
        "\n",
        "y_1_hat = float(y_1_hat)\n",
        "y_0_hat = float(y_0_hat)\n",
        "\n",
        "\n",
        "pred_model_1 = x_hat*heights_test\n",
        "\n",
        "pred_model_2 = y_1_hat*heights_test + y_0_hat\n",
        "\n",
        "\n",
        "\n",
        "plt.figure(figsize=(12, 9))  \n",
        "plt.plot(heights_test, weights_test, '.',  color='skyblue',markeredgecolor='blue')\n",
        "plt.plot(heights_test, pred_model_1,  c=\"red\")\n",
        "\n",
        "plt.figure(figsize=(12, 9))  \n",
        "plt.plot(heights_test, weights_test, '.', color='skyblue',markeredgecolor='blue')\n",
        "plt.plot(heights_test, pred_model_2, c=\"red\")\n",
        "\n",
        "error_1 = np.sum(np.abs((pred_model_1 - weights_test)/weights_test))/n_test\n",
        "error_2 = np.sum(np.abs((pred_model_2 - weights_test)/weights_test))/n_test\n",
        "\n",
        "print(\"Model 1 relative error: \" + str(error_1))\n",
        "print(\"Model 2 relative error: \" + str(error_2))"
      ],
      "metadata": {
        "colab": {
          "base_uri": "https://localhost:8080/",
          "height": 1000
        },
        "id": "5_cNl68KQzil",
        "outputId": "e4c1310a-429f-4f65-cab0-d072a26c7080"
      },
      "execution_count": null,
      "outputs": [
        {
          "output_type": "stream",
          "name": "stderr",
          "text": [
            "/usr/local/lib/python3.7/dist-packages/ipykernel_launcher.py:30: FutureWarning: `rcond` parameter will change to the default of machine precision times ``max(M, N)`` where M and N are the input matrix dimensions.\n",
            "To use the future default and silence this warning we advise to pass `rcond=None`, to keep using the old, explicitly pass `rcond=-1`.\n"
          ]
        },
        {
          "output_type": "stream",
          "name": "stdout",
          "text": [
            "Model 1 relative error: 0.06576974097275647\n",
            "Model 2 relative error: 0.06372174112789745\n"
          ]
        },
        {
          "output_type": "display_data",
          "data": {
            "text/plain": [
              "<Figure size 864x648 with 1 Axes>"
            ],
            "image/png": "[encoded data removed]"
          },
          "metadata": {
            "needs_background": "light"
          }
        },
        {
          "output_type": "display_data",
          "data": {
            "text/plain": [
              "<Figure size 864x648 with 1 Axes>"
            ],
            "image/png": "[encoded data removed]"
          },
          "metadata": {
            "needs_background": "light"
          }
        }
      ]
    },
    {
      "cell_type": "markdown",
      "source": [
        "The relative errors achieved by the two models on the test set are:\n",
        "\n",
        "$$\\text{Model 1: }0.06575478821914703$$\n",
        "\n",
        "$$\\text{Model 2: }0.06441998882804222$$\n",
        "\n",
        "(note that these are suject to change given that the training and test datasets are randomly generated every time). "
      ],
      "metadata": {
        "id": "t4KWzBsthKcA"
      }
    },
    {
      "cell_type": "markdown",
      "source": [
        "##Question 10(d)\n",
        "\n",
        "Below, we run the same code as in part (c) except, this time, we only train on 100 training examples:"
      ],
      "metadata": {
        "id": "aKRHD1ZZiDJs"
      }
    },
    {
      "cell_type": "code",
      "source": [
        "plt.close(\"all\")\n",
        "plt.rcParams['xtick.major.pad']='8'\n",
        "plt.rcParams['ytick.major.pad']='8'\n",
        "\n",
        "### CHANGE PATH TO WHEREVER YOU SAVE THE DATA FILES ### \n",
        "data = np.loadtxt(\"heights_weights.txt\") \n",
        "\n",
        "n_train = 100\n",
        "n_test = 1000\n",
        "\n",
        "# Randomly select training, test and validation sets\n",
        "np.random.shuffle(data)\n",
        "data_train = data[range(n_train),:]\n",
        "data_test = data[range(n_train, n_train+n_test),:]\n",
        "heights_train = data_train[:,1]\n",
        "weights_train = data_train[:,2]\n",
        "heights_test = data_test[:,1]\n",
        "weights_test = data_test[:,2]\n",
        "\n",
        "### INSERT CODE HERE ###\n",
        "# Hint: To fit model 1 use the expression you found directly\n",
        "# to fit model 2 you can use np.linalg.lstsq\n",
        "\n",
        "x_hat = (np.dot(heights_train, weights_train))/(np.linalg.norm(heights_train))**2\n",
        "\n",
        "weights_train_fixed = weights_train.reshape(-1,1)\n",
        "\n",
        "new_heights_train = np.vstack([heights_train, np.ones(len(heights_train))]).transpose()\n",
        "\n",
        "y_1_hat, y_0_hat= np.linalg.lstsq(new_heights_train, weights_train_fixed)[0]\n",
        "\n",
        "y_1_hat = float(y_1_hat)\n",
        "y_0_hat = float(y_0_hat)\n",
        "\n",
        "\n",
        "\n",
        "pred_model_1 = x_hat*heights_test\n",
        "\n",
        "pred_model_2 = y_1_hat*heights_test + y_0_hat\n",
        "\n",
        "\n",
        "\n",
        "\n",
        "\n",
        "plt.figure(figsize=(12, 9))  \n",
        "plt.plot(heights_test, weights_test, '.',  color='skyblue',markeredgecolor='blue')\n",
        "plt.plot(heights_test, pred_model_1,  c=\"red\")\n",
        "\n",
        "plt.figure(figsize=(12, 9))  \n",
        "plt.plot(heights_test, weights_test, '.', color='skyblue',markeredgecolor='blue')\n",
        "plt.plot(heights_test, pred_model_2, c=\"red\")\n",
        "\n",
        "error_1 = np.sum(np.abs((pred_model_1 - weights_test)/weights_test))/n_test\n",
        "error_2 = np.sum(np.abs((pred_model_2 - weights_test)/weights_test))/n_test\n",
        "\n",
        "print(\"Model 1 relative error: \" + str(error_1))\n",
        "print(\"Model 2 relative error: \" + str(error_2))"
      ],
      "metadata": {
        "colab": {
          "base_uri": "https://localhost:8080/",
          "height": 1000
        },
        "id": "q_on6tDzjh-L",
        "outputId": "3c9e4328-b284-431c-e334-2cc8a420c493"
      },
      "execution_count": null,
      "outputs": [
        {
          "output_type": "stream",
          "name": "stderr",
          "text": [
            "/usr/local/lib/python3.7/dist-packages/ipykernel_launcher.py:30: FutureWarning: `rcond` parameter will change to the default of machine precision times ``max(M, N)`` where M and N are the input matrix dimensions.\n",
            "To use the future default and silence this warning we advise to pass `rcond=None`, to keep using the old, explicitly pass `rcond=-1`.\n"
          ]
        },
        {
          "output_type": "stream",
          "name": "stdout",
          "text": [
            "Model 1 relative error: 0.06603136804244211\n",
            "Model 2 relative error: 0.0643761181523086\n"
          ]
        },
        {
          "output_type": "display_data",
          "data": {
            "text/plain": [
              "<Figure size 864x648 with 1 Axes>"
            ],
            "image/png": "[encoded data removed]"
          },
          "metadata": {
            "needs_background": "light"
          }
        },
        {
          "output_type": "display_data",
          "data": {
            "text/plain": [
              "<Figure size 864x648 with 1 Axes>"
            ],
            "image/png": "[encoded data removed]"
          },
          "metadata": {
            "needs_background": "light"
          }
        }
      ]
    },
    {
      "cell_type": "markdown",
      "source": [
        "From the above code, I noticed that the relative error of the models doesn't really change. Despite reducing the amount of training examples down to 100, we still had about the same accuracy. This suggests that linear models work fairly consistenly no matter how much data you're working with. Linear models seem to be best for situations where data is scarce given that they maintain their accuracy even with a small amount of training examples. When data is plentiful, it would probably be more beneficial to use a higher-ordered model so that we can catpure all of the intracicies and patterns that a lower-ordered model (such as linear regresssion) cannot capture. Meanwhile, using higher ordered models in situations where there is only a small amount of training data may lead to overfitting, thus, linear models will be the way to go in these situations. "
      ],
      "metadata": {
        "id": "WQg-oRy3jzme"
      }
    },
    {
      "cell_type": "markdown",
      "source": [
        "##Question 13 (Extra Credit)"
      ],
      "metadata": {
        "id": "dFVafXPtrgQ8"
      }
    },
    {
      "cell_type": "code",
      "source": [
        "from sklearn.datasets import load_diabetes\n",
        "from sklearn.model_selection import train_test_split\n",
        "data_loader = load_diabetes()\n",
        "\n",
        "def ridge_regression(X_train, X_test, y_train, alpha):\n",
        "    X_train['intercept_value'] = 1 \n",
        "\n",
        "\n",
        "\n",
        "    X_train = X_train[['intercept_value','bmi']]\n",
        "\n",
        "\n",
        "    identity_matrix = np.identity(2)\n",
        "\n",
        "\n",
        "\n",
        "\n",
        "    B_hat_part_1 = np.linalg.inv(np.matmul(X_train.transpose(), X_train) + alpha*identity_matrix)\n",
        "\n",
        "    B_hat = np.matmul(np.matmul(B_hat_part_1, X_train.transpose()), y_train)\n",
        "\n",
        "    B_hat = B_hat.to_numpy()\n",
        "    X_test = X_test.to_numpy()\n",
        "\n",
        "\n",
        "    ridge_model = B_hat[1]*X_test +B_hat[0]\n",
        "    return ridge_model \n",
        "\n",
        "df = pd.DataFrame(data= np.c_[data_loader['data'], data_loader['target']],\n",
        "                     columns= data_loader['feature_names'] + ['target'])\n",
        "\n",
        "\n",
        "train, test = train_test_split(df, test_size=0.25)\n",
        "\n",
        "X_train = train[['bmi']]\n",
        "X_test = test[['bmi']]\n",
        "y_train = train[['target']]\n",
        "y_test = test[['target']]\n",
        "\n",
        "ridge_model_1 = ridge_regression(X_train, X_test, y_train,0.01)\n",
        "ridge_model_2 = ridge_regression(X_train, X_test, y_train,1)\n",
        "ridge_model_3 = ridge_regression(X_train, X_test, y_train,5)\n",
        "\n",
        "X_train_plot = X_train['bmi']\n",
        "\n",
        "\n",
        "\n",
        "\n",
        "plt.plot(X_test, y_test, 'bo', label='Test Data')\n",
        "plt.plot(X_train_plot, y_train, 'go', label='Training Data')\n",
        "plt.plot(X_test, ridge_model_1, '-r')\n",
        "plt.xlabel('BMI')\n",
        "plt.ylabel('Target Data')\n",
        "plt.title('Predicting Target Diabetic Data from BMI with Regularization Parameter  = 0.01')\n",
        "plt.legend()\n",
        "plt.show()\n",
        "\n",
        "plt.plot(X_test, y_test, 'bo', label='Test Data')\n",
        "plt.plot(X_train_plot, y_train, 'go', label='Training Data')\n",
        "plt.plot(X_test, ridge_model_2, '-r')\n",
        "plt.xlabel('BMI')\n",
        "plt.ylabel('Target Data')\n",
        "plt.title('Predicting Target Diabetic Data from BMI with Regularization Parameter  = 1')\n",
        "plt.legend()\n",
        "plt.show()\n",
        "\n",
        "plt.plot(X_test, y_test, 'bo', label='Test Data')\n",
        "plt.plot(X_train_plot, y_train, 'go', label='Training Data')\n",
        "plt.plot(X_test, ridge_model_3, '-r')\n",
        "plt.xlabel('BMI')\n",
        "plt.ylabel('Target Data')\n",
        "plt.title('Predicting Target Diabetic Data from BMI with Regularization Parameter  = 5')\n",
        "plt.legend()\n",
        "plt.show()"
      ],
      "metadata": {
        "colab": {
          "base_uri": "https://localhost:8080/",
          "height": 1000
        },
        "id": "ZVL4V624rjzF",
        "outputId": "2afe7d0a-2676-410a-8e6e-a62a37174bb0"
      },
      "execution_count": 129,
      "outputs": [
        {
          "output_type": "stream",
          "name": "stderr",
          "text": [
            "/usr/local/lib/python3.7/dist-packages/ipykernel_launcher.py:6: SettingWithCopyWarning: \n",
            "A value is trying to be set on a copy of a slice from a DataFrame.\n",
            "Try using .loc[row_indexer,col_indexer] = value instead\n",
            "\n",
            "See the caveats in the documentation: https://pandas.pydata.org/pandas-docs/stable/user_guide/indexing.html#returning-a-view-versus-a-copy\n",
            "  \n",
            "/usr/local/lib/python3.7/dist-packages/ipykernel_launcher.py:18: FutureWarning: Calling a ufunc on non-aligned DataFrames (or DataFrame/Series combination). Currently, the indices are ignored and the result takes the index/columns of the first DataFrame. In the future , the DataFrames/Series will be aligned before applying the ufunc.\n",
            "Convert one of the arguments to a NumPy array (eg 'ufunc(df1, np.asarray(df2)') to keep the current behaviour, or align manually (eg 'df1, df2 = df1.align(df2)') before passing to the ufunc to obtain the future behaviour and silence this warning.\n",
            "/usr/local/lib/python3.7/dist-packages/ipykernel_launcher.py:20: FutureWarning: Calling a ufunc on non-aligned DataFrames (or DataFrame/Series combination). Currently, the indices are ignored and the result takes the index/columns of the first DataFrame. In the future , the DataFrames/Series will be aligned before applying the ufunc.\n",
            "Convert one of the arguments to a NumPy array (eg 'ufunc(df1, np.asarray(df2)') to keep the current behaviour, or align manually (eg 'df1, df2 = df1.align(df2)') before passing to the ufunc to obtain the future behaviour and silence this warning.\n"
          ]
        },
        {
          "output_type": "display_data",
          "data": {
            "text/plain": [
              "<Figure size 432x288 with 1 Axes>"
            ],
            "image/png": "[encoded data removed]"
          },
          "metadata": {
            "needs_background": "light"
          }
        },
        {
          "output_type": "display_data",
          "data": {
            "text/plain": [
              "<Figure size 432x288 with 1 Axes>"
            ],
            "image/png": "[encoded data removed]"
          },
          "metadata": {
            "needs_background": "light"
          }
        },
        {
          "output_type": "display_data",
          "data": {
            "text/plain": [
              "<Figure size 432x288 with 1 Axes>"
            ],
            "image/png": "[encoded data removed]"
          },
          "metadata": {
            "needs_background": "light"
          }
        }
      ]
    },
    {
      "cell_type": "code",
      "source": [
        "#This code is just used for saving as pdf\n",
        "!apt-get install texlive texlive-xetex texlive-latex-extra pandoc\n",
        "!pip install pypandoc"
      ],
      "metadata": {
        "colab": {
          "base_uri": "https://localhost:8080/"
        },
        "id": "cDM6V4ChcvXu",
        "outputId": "d0720595-6431-4805-fbbd-731d44e760b1"
      },
      "execution_count": 132,
      "outputs": [
        {
          "output_type": "stream",
          "name": "stdout",
          "text": [
            "Reading package lists... Done\n",
            "Building dependency tree       \n",
            "Reading state information... Done\n",
            "pandoc is already the newest version (1.19.2.4~dfsg-1build4).\n",
            "pandoc set to manually installed.\n",
            "The following package was automatically installed and is no longer required:\n",
            "  libnvidia-common-460\n",
            "Use 'apt autoremove' to remove it.\n",
            "The following additional packages will be installed:\n",
            "  fonts-droid-fallback fonts-lato fonts-lmodern fonts-noto-mono fonts-texgyre\n",
            "  javascript-common libcupsfilters1 libcupsimage2 libgs9 libgs9-common\n",
            "  libijs-0.35 libjbig2dec0 libjs-jquery libkpathsea6 libpotrace0 libptexenc1\n",
            "  libruby2.5 libsynctex1 libtexlua52 libtexluajit2 libzzip-0-13 lmodern\n",
            "  poppler-data preview-latex-style rake ruby ruby-did-you-mean ruby-minitest\n",
            "  ruby-net-telnet ruby-power-assert ruby-test-unit ruby2.5\n",
            "  rubygems-integration t1utils tex-common tex-gyre texlive-base\n",
            "  texlive-binaries texlive-fonts-recommended texlive-latex-base\n",
            "  texlive-latex-recommended texlive-pictures texlive-plain-generic tipa\n",
            "Suggested packages:\n",
            "  fonts-noto apache2 | lighttpd | httpd poppler-utils ghostscript\n",
            "  fonts-japanese-mincho | fonts-ipafont-mincho fonts-japanese-gothic\n",
            "  | fonts-ipafont-gothic fonts-arphic-ukai fonts-arphic-uming fonts-nanum ri\n",
            "  ruby-dev bundler debhelper gv | postscript-viewer perl-tk xpdf-reader\n",
            "  | pdf-viewer texlive-fonts-recommended-doc texlive-latex-base-doc\n",
            "  python-pygments icc-profiles libfile-which-perl\n",
            "  libspreadsheet-parseexcel-perl texlive-latex-extra-doc\n",
            "  texlive-latex-recommended-doc texlive-pstricks dot2tex prerex ruby-tcltk\n",
            "  | libtcltk-ruby texlive-pictures-doc vprerex\n",
            "The following NEW packages will be installed:\n",
            "  fonts-droid-fallback fonts-lato fonts-lmodern fonts-noto-mono fonts-texgyre\n",
            "  javascript-common libcupsfilters1 libcupsimage2 libgs9 libgs9-common\n",
            "  libijs-0.35 libjbig2dec0 libjs-jquery libkpathsea6 libpotrace0 libptexenc1\n",
            "  libruby2.5 libsynctex1 libtexlua52 libtexluajit2 libzzip-0-13 lmodern\n",
            "  poppler-data preview-latex-style rake ruby ruby-did-you-mean ruby-minitest\n",
            "  ruby-net-telnet ruby-power-assert ruby-test-unit ruby2.5\n",
            "  rubygems-integration t1utils tex-common tex-gyre texlive texlive-base\n",
            "  texlive-binaries texlive-fonts-recommended texlive-latex-base\n",
            "  texlive-latex-extra texlive-latex-recommended texlive-pictures\n",
            "  texlive-plain-generic texlive-xetex tipa\n",
            "0 upgraded, 47 newly installed, 0 to remove and 12 not upgraded.\n",
            "Need to get 146 MB of archives.\n",
            "After this operation, 460 MB of additional disk space will be used.\n",
            "Get:1 http://archive.ubuntu.com/ubuntu bionic/main amd64 fonts-droid-fallback all 1:6.0.1r16-1.1 [1,805 kB]\n",
            "Get:2 http://archive.ubuntu.com/ubuntu bionic/main amd64 fonts-lato all 2.0-2 [2,698 kB]\n",
            "Get:3 http://archive.ubuntu.com/ubuntu bionic/main amd64 poppler-data all 0.4.8-2 [1,479 kB]\n",
            "Get:4 http://archive.ubuntu.com/ubuntu bionic/main amd64 tex-common all 6.09 [33.0 kB]\n",
            "Get:5 http://archive.ubuntu.com/ubuntu bionic/main amd64 fonts-lmodern all 2.004.5-3 [4,551 kB]\n",
            "Get:6 http://archive.ubuntu.com/ubuntu bionic/main amd64 fonts-noto-mono all 20171026-2 [75.5 kB]\n",
            "Get:7 http://archive.ubuntu.com/ubuntu bionic/universe amd64 fonts-texgyre all 20160520-1 [8,761 kB]\n",
            "Get:8 http://archive.ubuntu.com/ubuntu bionic/main amd64 javascript-common all 11 [6,066 B]\n",
            "Get:9 http://archive.ubuntu.com/ubuntu bionic-updates/main amd64 libcupsfilters1 amd64 1.20.2-0ubuntu3.1 [108 kB]\n",
            "Get:10 http://archive.ubuntu.com/ubuntu bionic-updates/main amd64 libcupsimage2 amd64 2.2.7-1ubuntu2.9 [18.6 kB]\n",
            "Get:11 http://archive.ubuntu.com/ubuntu bionic/main amd64 libijs-0.35 amd64 0.35-13 [15.5 kB]\n",
            "Get:12 http://archive.ubuntu.com/ubuntu bionic/main amd64 libjbig2dec0 amd64 0.13-6 [55.9 kB]\n",
            "Get:13 http://archive.ubuntu.com/ubuntu bionic-updates/main amd64 libgs9-common all 9.26~dfsg+0-0ubuntu0.18.04.17 [5,092 kB]\n",
            "Get:14 http://archive.ubuntu.com/ubuntu bionic-updates/main amd64 libgs9 amd64 9.26~dfsg+0-0ubuntu0.18.04.17 [2,267 kB]\n",
            "Get:15 http://archive.ubuntu.com/ubuntu bionic/main amd64 libjs-jquery all 3.2.1-1 [152 kB]\n",
            "Get:16 http://archive.ubuntu.com/ubuntu bionic-updates/main amd64 libkpathsea6 amd64 2017.20170613.44572-8ubuntu0.1 [54.9 kB]\n",
            "Get:17 http://archive.ubuntu.com/ubuntu bionic/main amd64 libpotrace0 amd64 1.14-2 [17.4 kB]\n",
            "Get:18 http://archive.ubuntu.com/ubuntu bionic-updates/main amd64 libptexenc1 amd64 2017.20170613.44572-8ubuntu0.1 [34.5 kB]\n",
            "Get:19 http://archive.ubuntu.com/ubuntu bionic/main amd64 rubygems-integration all 1.11 [4,994 B]\n",
            "Get:20 http://archive.ubuntu.com/ubuntu bionic-updates/main amd64 ruby2.5 amd64 2.5.1-1ubuntu1.12 [48.6 kB]\n",
            "Get:21 http://archive.ubuntu.com/ubuntu bionic/main amd64 ruby amd64 1:2.5.1 [5,712 B]\n",
            "Get:22 http://archive.ubuntu.com/ubuntu bionic-updates/main amd64 rake all 12.3.1-1ubuntu0.1 [44.9 kB]\n",
            "Get:23 http://archive.ubuntu.com/ubuntu bionic/main amd64 ruby-did-you-mean all 1.2.0-2 [9,700 B]\n",
            "Get:24 http://archive.ubuntu.com/ubuntu bionic/main amd64 ruby-minitest all 5.10.3-1 [38.6 kB]\n",
            "Get:25 http://archive.ubuntu.com/ubuntu bionic/main amd64 ruby-net-telnet all 0.1.1-2 [12.6 kB]\n",
            "Get:26 http://archive.ubuntu.com/ubuntu bionic/main amd64 ruby-power-assert all 0.3.0-1 [7,952 B]\n",
            "Get:27 http://archive.ubuntu.com/ubuntu bionic/main amd64 ruby-test-unit all 3.2.5-1 [61.1 kB]\n",
            "Get:28 http://archive.ubuntu.com/ubuntu bionic-updates/main amd64 libruby2.5 amd64 2.5.1-1ubuntu1.12 [3,073 kB]\n",
            "Get:29 http://archive.ubuntu.com/ubuntu bionic-updates/main amd64 libsynctex1 amd64 2017.20170613.44572-8ubuntu0.1 [41.4 kB]\n",
            "Get:30 http://archive.ubuntu.com/ubuntu bionic-updates/main amd64 libtexlua52 amd64 2017.20170613.44572-8ubuntu0.1 [91.2 kB]\n",
            "Get:31 http://archive.ubuntu.com/ubuntu bionic-updates/main amd64 libtexluajit2 amd64 2017.20170613.44572-8ubuntu0.1 [230 kB]\n",
            "Get:32 http://archive.ubuntu.com/ubuntu bionic-updates/main amd64 libzzip-0-13 amd64 0.13.62-3.1ubuntu0.18.04.1 [26.0 kB]\n",
            "Get:33 http://archive.ubuntu.com/ubuntu bionic/main amd64 lmodern all 2.004.5-3 [9,631 kB]\n",
            "Get:34 http://archive.ubuntu.com/ubuntu bionic/main amd64 preview-latex-style all 11.91-1ubuntu1 [185 kB]\n",
            "Get:35 http://archive.ubuntu.com/ubuntu bionic/main amd64 t1utils amd64 1.41-2 [56.0 kB]\n",
            "Get:36 http://archive.ubuntu.com/ubuntu bionic/universe amd64 tex-gyre all 20160520-1 [4,998 kB]\n",
            "Get:37 http://archive.ubuntu.com/ubuntu bionic-updates/main amd64 texlive-binaries amd64 2017.20170613.44572-8ubuntu0.1 [8,179 kB]\n",
            "Get:38 http://archive.ubuntu.com/ubuntu bionic/main amd64 texlive-base all 2017.20180305-1 [18.7 MB]\n",
            "Get:39 http://archive.ubuntu.com/ubuntu bionic/universe amd64 texlive-fonts-recommended all 2017.20180305-1 [5,262 kB]\n",
            "Get:40 http://archive.ubuntu.com/ubuntu bionic/main amd64 texlive-latex-base all 2017.20180305-1 [951 kB]\n",
            "Get:41 http://archive.ubuntu.com/ubuntu bionic/main amd64 texlive-latex-recommended all 2017.20180305-1 [14.9 MB]\n",
            "Get:42 http://archive.ubuntu.com/ubuntu bionic/universe amd64 texlive all 2017.20180305-1 [14.4 kB]\n",
            "Get:43 http://archive.ubuntu.com/ubuntu bionic/universe amd64 texlive-pictures all 2017.20180305-1 [4,026 kB]\n",
            "Get:44 http://archive.ubuntu.com/ubuntu bionic/universe amd64 texlive-latex-extra all 2017.20180305-2 [10.6 MB]\n",
            "Get:45 http://archive.ubuntu.com/ubuntu bionic/universe amd64 texlive-plain-generic all 2017.20180305-2 [23.6 MB]\n",
            "Get:46 http://archive.ubuntu.com/ubuntu bionic/universe amd64 tipa all 2:1.3-20 [2,978 kB]\n",
            "Get:47 http://archive.ubuntu.com/ubuntu bionic/universe amd64 texlive-xetex all 2017.20180305-1 [10.7 MB]\n",
            "Fetched 146 MB in 5s (30.9 MB/s)\n",
            "Extracting templates from packages: 100%\n",
            "Preconfiguring packages ...\n",
            "Selecting previously unselected package fonts-droid-fallback.\n",
            "(Reading database ... 123934 files and directories currently installed.)\n",
            "Preparing to unpack .../00-fonts-droid-fallback_1%3a6.0.1r16-1.1_all.deb ...\n",
            "Unpacking fonts-droid-fallback (1:6.0.1r16-1.1) ...\n",
            "Selecting previously unselected package fonts-lato.\n",
            "Preparing to unpack .../01-fonts-lato_2.0-2_all.deb ...\n",
            "Unpacking fonts-lato (2.0-2) ...\n",
            "Selecting previously unselected package poppler-data.\n",
            "Preparing to unpack .../02-poppler-data_0.4.8-2_all.deb ...\n",
            "Unpacking poppler-data (0.4.8-2) ...\n",
            "Selecting previously unselected package tex-common.\n",
            "Preparing to unpack .../03-tex-common_6.09_all.deb ...\n",
            "Unpacking tex-common (6.09) ...\n",
            "Selecting previously unselected package fonts-lmodern.\n",
            "Preparing to unpack .../04-fonts-lmodern_2.004.5-3_all.deb ...\n",
            "Unpacking fonts-lmodern (2.004.5-3) ...\n",
            "Selecting previously unselected package fonts-noto-mono.\n",
            "Preparing to unpack .../05-fonts-noto-mono_20171026-2_all.deb ...\n",
            "Unpacking fonts-noto-mono (20171026-2) ...\n",
            "Selecting previously unselected package fonts-texgyre.\n",
            "Preparing to unpack .../06-fonts-texgyre_20160520-1_all.deb ...\n",
            "Unpacking fonts-texgyre (20160520-1) ...\n",
            "Selecting previously unselected package javascript-common.\n",
            "Preparing to unpack .../07-javascript-common_11_all.deb ...\n",
            "Unpacking javascript-common (11) ...\n",
            "Selecting previously unselected package libcupsfilters1:amd64.\n",
            "Preparing to unpack .../08-libcupsfilters1_1.20.2-0ubuntu3.1_amd64.deb ...\n",
            "Unpacking libcupsfilters1:amd64 (1.20.2-0ubuntu3.1) ...\n",
            "Selecting previously unselected package libcupsimage2:amd64.\n",
            "Preparing to unpack .../09-libcupsimage2_2.2.7-1ubuntu2.9_amd64.deb ...\n",
            "Unpacking libcupsimage2:amd64 (2.2.7-1ubuntu2.9) ...\n",
            "Selecting previously unselected package libijs-0.35:amd64.\n",
            "Preparing to unpack .../10-libijs-0.35_0.35-13_amd64.deb ...\n",
            "Unpacking libijs-0.35:amd64 (0.35-13) ...\n",
            "Selecting previously unselected package libjbig2dec0:amd64.\n",
            "Preparing to unpack .../11-libjbig2dec0_0.13-6_amd64.deb ...\n",
            "Unpacking libjbig2dec0:amd64 (0.13-6) ...\n",
            "Selecting previously unselected package libgs9-common.\n",
            "Preparing to unpack .../12-libgs9-common_9.26~dfsg+0-0ubuntu0.18.04.17_all.deb ...\n",
            "Unpacking libgs9-common (9.26~dfsg+0-0ubuntu0.18.04.17) ...\n",
            "Selecting previously unselected package libgs9:amd64.\n",
            "Preparing to unpack .../13-libgs9_9.26~dfsg+0-0ubuntu0.18.04.17_amd64.deb ...\n",
            "Unpacking libgs9:amd64 (9.26~dfsg+0-0ubuntu0.18.04.17) ...\n",
            "Selecting previously unselected package libjs-jquery.\n",
            "Preparing to unpack .../14-libjs-jquery_3.2.1-1_all.deb ...\n",
            "Unpacking libjs-jquery (3.2.1-1) ...\n",
            "Selecting previously unselected package libkpathsea6:amd64.\n",
            "Preparing to unpack .../15-libkpathsea6_2017.20170613.44572-8ubuntu0.1_amd64.deb ...\n",
            "Unpacking libkpathsea6:amd64 (2017.20170613.44572-8ubuntu0.1) ...\n",
            "Selecting previously unselected package libpotrace0.\n",
            "Preparing to unpack .../16-libpotrace0_1.14-2_amd64.deb ...\n",
            "Unpacking libpotrace0 (1.14-2) ...\n",
            "Selecting previously unselected package libptexenc1:amd64.\n",
            "Preparing to unpack .../17-libptexenc1_2017.20170613.44572-8ubuntu0.1_amd64.deb ...\n",
            "Unpacking libptexenc1:amd64 (2017.20170613.44572-8ubuntu0.1) ...\n",
            "Selecting previously unselected package rubygems-integration.\n",
            "Preparing to unpack .../18-rubygems-integration_1.11_all.deb ...\n",
            "Unpacking rubygems-integration (1.11) ...\n",
            "Selecting previously unselected package ruby2.5.\n",
            "Preparing to unpack .../19-ruby2.5_2.5.1-1ubuntu1.12_amd64.deb ...\n",
            "Unpacking ruby2.5 (2.5.1-1ubuntu1.12) ...\n",
            "Selecting previously unselected package ruby.\n",
            "Preparing to unpack .../20-ruby_1%3a2.5.1_amd64.deb ...\n",
            "Unpacking ruby (1:2.5.1) ...\n",
            "Selecting previously unselected package rake.\n",
            "Preparing to unpack .../21-rake_12.3.1-1ubuntu0.1_all.deb ...\n",
            "Unpacking rake (12.3.1-1ubuntu0.1) ...\n",
            "Selecting previously unselected package ruby-did-you-mean.\n",
            "Preparing to unpack .../22-ruby-did-you-mean_1.2.0-2_all.deb ...\n",
            "Unpacking ruby-did-you-mean (1.2.0-2) ...\n",
            "Selecting previously unselected package ruby-minitest.\n",
            "Preparing to unpack .../23-ruby-minitest_5.10.3-1_all.deb ...\n",
            "Unpacking ruby-minitest (5.10.3-1) ...\n",
            "Selecting previously unselected package ruby-net-telnet.\n",
            "Preparing to unpack .../24-ruby-net-telnet_0.1.1-2_all.deb ...\n",
            "Unpacking ruby-net-telnet (0.1.1-2) ...\n",
            "Selecting previously unselected package ruby-power-assert.\n",
            "Preparing to unpack .../25-ruby-power-assert_0.3.0-1_all.deb ...\n",
            "Unpacking ruby-power-assert (0.3.0-1) ...\n",
            "Selecting previously unselected package ruby-test-unit.\n",
            "Preparing to unpack .../26-ruby-test-unit_3.2.5-1_all.deb ...\n",
            "Unpacking ruby-test-unit (3.2.5-1) ...\n",
            "Selecting previously unselected package libruby2.5:amd64.\n",
            "Preparing to unpack .../27-libruby2.5_2.5.1-1ubuntu1.12_amd64.deb ...\n",
            "Unpacking libruby2.5:amd64 (2.5.1-1ubuntu1.12) ...\n",
            "Selecting previously unselected package libsynctex1:amd64.\n",
            "Preparing to unpack .../28-libsynctex1_2017.20170613.44572-8ubuntu0.1_amd64.deb ...\n",
            "Unpacking libsynctex1:amd64 (2017.20170613.44572-8ubuntu0.1) ...\n",
            "Selecting previously unselected package libtexlua52:amd64.\n",
            "Preparing to unpack .../29-libtexlua52_2017.20170613.44572-8ubuntu0.1_amd64.deb ...\n",
            "Unpacking libtexlua52:amd64 (2017.20170613.44572-8ubuntu0.1) ...\n",
            "Selecting previously unselected package libtexluajit2:amd64.\n",
            "Preparing to unpack .../30-libtexluajit2_2017.20170613.44572-8ubuntu0.1_amd64.deb ...\n",
            "Unpacking libtexluajit2:amd64 (2017.20170613.44572-8ubuntu0.1) ...\n",
            "Selecting previously unselected package libzzip-0-13:amd64.\n",
            "Preparing to unpack .../31-libzzip-0-13_0.13.62-3.1ubuntu0.18.04.1_amd64.deb ...\n",
            "Unpacking libzzip-0-13:amd64 (0.13.62-3.1ubuntu0.18.04.1) ...\n",
            "Selecting previously unselected package lmodern.\n",
            "Preparing to unpack .../32-lmodern_2.004.5-3_all.deb ...\n",
            "Unpacking lmodern (2.004.5-3) ...\n",
            "Selecting previously unselected package preview-latex-style.\n",
            "Preparing to unpack .../33-preview-latex-style_11.91-1ubuntu1_all.deb ...\n",
            "Unpacking preview-latex-style (11.91-1ubuntu1) ...\n",
            "Selecting previously unselected package t1utils.\n",
            "Preparing to unpack .../34-t1utils_1.41-2_amd64.deb ...\n",
            "Unpacking t1utils (1.41-2) ...\n",
            "Selecting previously unselected package tex-gyre.\n",
            "Preparing to unpack .../35-tex-gyre_20160520-1_all.deb ...\n",
            "Unpacking tex-gyre (20160520-1) ...\n",
            "Selecting previously unselected package texlive-binaries.\n",
            "Preparing to unpack .../36-texlive-binaries_2017.20170613.44572-8ubuntu0.1_amd64.deb ...\n",
            "Unpacking texlive-binaries (2017.20170613.44572-8ubuntu0.1) ...\n",
            "Selecting previously unselected package texlive-base.\n",
            "Preparing to unpack .../37-texlive-base_2017.20180305-1_all.deb ...\n",
            "Unpacking texlive-base (2017.20180305-1) ...\n",
            "Selecting previously unselected package texlive-fonts-recommended.\n",
            "Preparing to unpack .../38-texlive-fonts-recommended_2017.20180305-1_all.deb ...\n",
            "Unpacking texlive-fonts-recommended (2017.20180305-1) ...\n",
            "Selecting previously unselected package texlive-latex-base.\n",
            "Preparing to unpack .../39-texlive-latex-base_2017.20180305-1_all.deb ...\n",
            "Unpacking texlive-latex-base (2017.20180305-1) ...\n",
            "Selecting previously unselected package texlive-latex-recommended.\n",
            "Preparing to unpack .../40-texlive-latex-recommended_2017.20180305-1_all.deb ...\n",
            "Unpacking texlive-latex-recommended (2017.20180305-1) ...\n",
            "Selecting previously unselected package texlive.\n",
            "Preparing to unpack .../41-texlive_2017.20180305-1_all.deb ...\n",
            "Unpacking texlive (2017.20180305-1) ...\n",
            "Selecting previously unselected package texlive-pictures.\n",
            "Preparing to unpack .../42-texlive-pictures_2017.20180305-1_all.deb ...\n",
            "Unpacking texlive-pictures (2017.20180305-1) ...\n",
            "Selecting previously unselected package texlive-latex-extra.\n",
            "Preparing to unpack .../43-texlive-latex-extra_2017.20180305-2_all.deb ...\n",
            "Unpacking texlive-latex-extra (2017.20180305-2) ...\n",
            "Selecting previously unselected package texlive-plain-generic.\n",
            "Preparing to unpack .../44-texlive-plain-generic_2017.20180305-2_all.deb ...\n",
            "Unpacking texlive-plain-generic (2017.20180305-2) ...\n",
            "Selecting previously unselected package tipa.\n",
            "Preparing to unpack .../45-tipa_2%3a1.3-20_all.deb ...\n",
            "Unpacking tipa (2:1.3-20) ...\n",
            "Selecting previously unselected package texlive-xetex.\n",
            "Preparing to unpack .../46-texlive-xetex_2017.20180305-1_all.deb ...\n",
            "Unpacking texlive-xetex (2017.20180305-1) ...\n",
            "Setting up libgs9-common (9.26~dfsg+0-0ubuntu0.18.04.17) ...\n",
            "Setting up libkpathsea6:amd64 (2017.20170613.44572-8ubuntu0.1) ...\n",
            "Setting up libjs-jquery (3.2.1-1) ...\n",
            "Setting up libtexlua52:amd64 (2017.20170613.44572-8ubuntu0.1) ...\n",
            "Setting up fonts-droid-fallback (1:6.0.1r16-1.1) ...\n",
            "Setting up libsynctex1:amd64 (2017.20170613.44572-8ubuntu0.1) ...\n",
            "Setting up libptexenc1:amd64 (2017.20170613.44572-8ubuntu0.1) ...\n",
            "Setting up tex-common (6.09) ...\n",
            "update-language: texlive-base not installed and configured, doing nothing!\n",
            "Setting up poppler-data (0.4.8-2) ...\n",
            "Setting up tex-gyre (20160520-1) ...\n",
            "Setting up preview-latex-style (11.91-1ubuntu1) ...\n",
            "Setting up fonts-texgyre (20160520-1) ...\n",
            "Setting up fonts-noto-mono (20171026-2) ...\n",
            "Setting up fonts-lato (2.0-2) ...\n",
            "Setting up libcupsfilters1:amd64 (1.20.2-0ubuntu3.1) ...\n",
            "Setting up libcupsimage2:amd64 (2.2.7-1ubuntu2.9) ...\n",
            "Setting up libjbig2dec0:amd64 (0.13-6) ...\n",
            "Setting up ruby-did-you-mean (1.2.0-2) ...\n",
            "Setting up t1utils (1.41-2) ...\n",
            "Setting up ruby-net-telnet (0.1.1-2) ...\n",
            "Setting up libijs-0.35:amd64 (0.35-13) ...\n",
            "Setting up rubygems-integration (1.11) ...\n",
            "Setting up libpotrace0 (1.14-2) ...\n",
            "Setting up javascript-common (11) ...\n",
            "Setting up ruby-minitest (5.10.3-1) ...\n",
            "Setting up libzzip-0-13:amd64 (0.13.62-3.1ubuntu0.18.04.1) ...\n",
            "Setting up libgs9:amd64 (9.26~dfsg+0-0ubuntu0.18.04.17) ...\n",
            "Setting up libtexluajit2:amd64 (2017.20170613.44572-8ubuntu0.1) ...\n",
            "Setting up fonts-lmodern (2.004.5-3) ...\n",
            "Setting up ruby-power-assert (0.3.0-1) ...\n",
            "Setting up texlive-binaries (2017.20170613.44572-8ubuntu0.1) ...\n",
            "update-alternatives: using /usr/bin/xdvi-xaw to provide /usr/bin/xdvi.bin (xdvi.bin) in auto mode\n",
            "update-alternatives: using /usr/bin/bibtex.original to provide /usr/bin/bibtex (bibtex) in auto mode\n",
            "Setting up texlive-base (2017.20180305-1) ...\n",
            "mktexlsr: Updating /var/lib/texmf/ls-R-TEXLIVEDIST... \n",
            "mktexlsr: Updating /var/lib/texmf/ls-R-TEXMFMAIN... \n",
            "mktexlsr: Updating /var/lib/texmf/ls-R... \n",
            "mktexlsr: Done.\n",
            "tl-paper: setting paper size for dvips to a4: /var/lib/texmf/dvips/config/config-paper.ps\n",
            "tl-paper: setting paper size for dvipdfmx to a4: /var/lib/texmf/dvipdfmx/dvipdfmx-paper.cfg\n",
            "tl-paper: setting paper size for xdvi to a4: /var/lib/texmf/xdvi/XDvi-paper\n",
            "tl-paper: setting paper size for pdftex to a4: /var/lib/texmf/tex/generic/config/pdftexconfig.tex\n",
            "Setting up texlive-fonts-recommended (2017.20180305-1) ...\n",
            "Setting up texlive-plain-generic (2017.20180305-2) ...\n",
            "Setting up texlive-latex-base (2017.20180305-1) ...\n",
            "Setting up lmodern (2.004.5-3) ...\n",
            "Setting up texlive-latex-recommended (2017.20180305-1) ...\n",
            "Setting up texlive-pictures (2017.20180305-1) ...\n",
            "Setting up tipa (2:1.3-20) ...\n",
            "Regenerating '/var/lib/texmf/fmtutil.cnf-DEBIAN'... done.\n",
            "Regenerating '/var/lib/texmf/fmtutil.cnf-TEXLIVEDIST'... done.\n",
            "update-fmtutil has updated the following file(s):\n",
            "\t/var/lib/texmf/fmtutil.cnf-DEBIAN\n",
            "\t/var/lib/texmf/fmtutil.cnf-TEXLIVEDIST\n",
            "If you want to activate the changes in the above file(s),\n",
            "you should run fmtutil-sys or fmtutil.\n",
            "Setting up texlive (2017.20180305-1) ...\n",
            "Setting up texlive-latex-extra (2017.20180305-2) ...\n",
            "Setting up texlive-xetex (2017.20180305-1) ...\n",
            "Setting up ruby2.5 (2.5.1-1ubuntu1.12) ...\n",
            "Setting up ruby (1:2.5.1) ...\n",
            "Setting up ruby-test-unit (3.2.5-1) ...\n",
            "Setting up rake (12.3.1-1ubuntu0.1) ...\n",
            "Setting up libruby2.5:amd64 (2.5.1-1ubuntu1.12) ...\n",
            "Processing triggers for mime-support (3.60ubuntu1) ...\n",
            "Processing triggers for libc-bin (2.27-3ubuntu1.6) ...\n",
            "Processing triggers for man-db (2.8.3-2ubuntu0.1) ...\n",
            "Processing triggers for fontconfig (2.12.6-0ubuntu2) ...\n",
            "Processing triggers for tex-common (6.09) ...\n",
            "Running updmap-sys. This may take some time... done.\n",
            "Running mktexlsr /var/lib/texmf ... done.\n",
            "Building format(s) --all.\n",
            "\tThis may take some time... done.\n",
            "Looking in indexes: https://pypi.org/simple, https://us-python.pkg.dev/colab-wheels/public/simple/\n",
            "Collecting pypandoc\n",
            "  Downloading pypandoc-1.9-py3-none-any.whl (20 kB)\n",
            "Installing collected packages: pypandoc\n",
            "Successfully installed pypandoc-1.9\n"
          ]
        }
      ]
    },
    {
      "cell_type": "code",
      "source": [
        "from google.colab import drive\n",
        "drive.mount('/content/drive')"
      ],
      "metadata": {
        "colab": {
          "base_uri": "https://localhost:8080/"
        },
        "id": "6voYEeFHdA4a",
        "outputId": "93f6956a-1093-4298-db91-4ba4a1522dee"
      },
      "execution_count": 133,
      "outputs": [
        {
          "output_type": "stream",
          "name": "stdout",
          "text": [
            "Mounted at /content/drive\n"
          ]
        }
      ]
    },
    {
      "cell_type": "code",
      "source": [
        "!jupyter nbconvert --to PDF \"Homework_2.ipynb\""
      ],
      "metadata": {
        "colab": {
          "base_uri": "https://localhost:8080/"
        },
        "id": "1gfwW_KLdHmY",
        "outputId": "97a85452-8ed5-44a9-ed59-78c676d03f55"
      },
      "execution_count": 137,
      "outputs": [
        {
          "output_type": "stream",
          "name": "stdout",
          "text": [
            "[NbConvertApp] WARNING | pattern 'Homework_2.ipynb' matched no files\n",
            "This application is used to convert notebook files (*.ipynb)\n",
            "        to various other formats.\n",
            "\n",
            "        WARNING: THE COMMANDLINE INTERFACE MAY CHANGE IN FUTURE RELEASES.\n",
            "\n",
            "Options\n",
            "=======\n",
            "The options below are convenience aliases to configurable class-options,\n",
            "as listed in the \"Equivalent to\" description-line of the aliases.\n",
            "To see all configurable class-options for some <cmd>, use:\n",
            "    <cmd> --help-all\n",
            "\n",
            "--debug\n",
            "    set log level to logging.DEBUG (maximize logging output)\n",
            "    Equivalent to: [--Application.log_level=10]\n",
            "--show-config\n",
            "    Show the application's configuration (human-readable format)\n",
            "    Equivalent to: [--Application.show_config=True]\n",
            "--show-config-json\n",
            "    Show the application's configuration (json format)\n",
            "    Equivalent to: [--Application.show_config_json=True]\n",
            "--generate-config\n",
            "    generate default config file\n",
            "    Equivalent to: [--JupyterApp.generate_config=True]\n",
            "-y\n",
            "    Answer yes to any questions instead of prompting.\n",
            "    Equivalent to: [--JupyterApp.answer_yes=True]\n",
            "--execute\n",
            "    Execute the notebook prior to export.\n",
            "    Equivalent to: [--ExecutePreprocessor.enabled=True]\n",
            "--allow-errors\n",
            "    Continue notebook execution even if one of the cells throws an error and include the error message in the cell output (the default behaviour is to abort conversion). This flag is only relevant if '--execute' was specified, too.\n",
            "    Equivalent to: [--ExecutePreprocessor.allow_errors=True]\n",
            "--stdin\n",
            "    read a single notebook file from stdin. Write the resulting notebook with default basename 'notebook.*'\n",
            "    Equivalent to: [--NbConvertApp.from_stdin=True]\n",
            "--stdout\n",
            "    Write notebook output to stdout instead of files.\n",
            "    Equivalent to: [--NbConvertApp.writer_class=StdoutWriter]\n",
            "--inplace\n",
            "    Run nbconvert in place, overwriting the existing notebook (only \n",
            "            relevant when converting to notebook format)\n",
            "    Equivalent to: [--NbConvertApp.use_output_suffix=False --NbConvertApp.export_format=notebook --FilesWriter.build_directory=]\n",
            "--clear-output\n",
            "    Clear output of current file and save in place, \n",
            "            overwriting the existing notebook.\n",
            "    Equivalent to: [--NbConvertApp.use_output_suffix=False --NbConvertApp.export_format=notebook --FilesWriter.build_directory= --ClearOutputPreprocessor.enabled=True]\n",
            "--no-prompt\n",
            "    Exclude input and output prompts from converted document.\n",
            "    Equivalent to: [--TemplateExporter.exclude_input_prompt=True --TemplateExporter.exclude_output_prompt=True]\n",
            "--no-input\n",
            "    Exclude input cells and output prompts from converted document. \n",
            "            This mode is ideal for generating code-free reports.\n",
            "    Equivalent to: [--TemplateExporter.exclude_output_prompt=True --TemplateExporter.exclude_input=True]\n",
            "--log-level=<Enum>\n",
            "    Set the log level by value or name.\n",
            "    Choices: any of [0, 10, 20, 30, 40, 50, 'DEBUG', 'INFO', 'WARN', 'ERROR', 'CRITICAL']\n",
            "    Default: 30\n",
            "    Equivalent to: [--Application.log_level]\n",
            "--config=<Unicode>\n",
            "    Full path of a config file.\n",
            "    Default: ''\n",
            "    Equivalent to: [--JupyterApp.config_file]\n",
            "--to=<Unicode>\n",
            "    The export format to be used, either one of the built-in formats\n",
            "            ['asciidoc', 'custom', 'html', 'latex', 'markdown', 'notebook', 'pdf', 'python', 'rst', 'script', 'slides']\n",
            "            or a dotted object name that represents the import path for an\n",
            "            `Exporter` class\n",
            "    Default: 'html'\n",
            "    Equivalent to: [--NbConvertApp.export_format]\n",
            "--template=<Unicode>\n",
            "    Name of the template file to use\n",
            "    Default: ''\n",
            "    Equivalent to: [--TemplateExporter.template_file]\n",
            "--writer=<DottedObjectName>\n",
            "    Writer class used to write the \n",
            "                                        results of the conversion\n",
            "    Default: 'FilesWriter'\n",
            "    Equivalent to: [--NbConvertApp.writer_class]\n",
            "--post=<DottedOrNone>\n",
            "    PostProcessor class used to write the\n",
            "                                        results of the conversion\n",
            "    Default: ''\n",
            "    Equivalent to: [--NbConvertApp.postprocessor_class]\n",
            "--output=<Unicode>\n",
            "    overwrite base name use for output files.\n",
            "                can only be used when converting one notebook at a time.\n",
            "    Default: ''\n",
            "    Equivalent to: [--NbConvertApp.output_base]\n",
            "--output-dir=<Unicode>\n",
            "    Directory to write output(s) to. Defaults\n",
            "                                  to output to the directory of each notebook. To recover\n",
            "                                  previous default behaviour (outputting to the current \n",
            "                                  working directory) use . as the flag value.\n",
            "    Default: ''\n",
            "    Equivalent to: [--FilesWriter.build_directory]\n",
            "--reveal-prefix=<Unicode>\n",
            "    The URL prefix for reveal.js (version 3.x).\n",
            "            This defaults to the reveal CDN, but can be any url pointing to a copy \n",
            "            of reveal.js. \n",
            "            For speaker notes to work, this must be a relative path to a local \n",
            "            copy of reveal.js: e.g., \"reveal.js\".\n",
            "            If a relative path is given, it must be a subdirectory of the\n",
            "            current directory (from which the server is run).\n",
            "            See the usage documentation\n",
            "            (https://nbconvert.readthedocs.io/en/latest/usage.html#reveal-js-html-slideshow)\n",
            "            for more details.\n",
            "    Default: ''\n",
            "    Equivalent to: [--SlidesExporter.reveal_url_prefix]\n",
            "--nbformat=<Enum>\n",
            "    The nbformat version to write.\n",
            "            Use this to downgrade notebooks.\n",
            "    Choices: any of [1, 2, 3, 4]\n",
            "    Default: 4\n",
            "    Equivalent to: [--NotebookExporter.nbformat_version]\n",
            "\n",
            "Examples\n",
            "--------\n",
            "\n",
            "    The simplest way to use nbconvert is\n",
            "\n",
            "            > jupyter nbconvert mynotebook.ipynb\n",
            "\n",
            "            which will convert mynotebook.ipynb to the default format (probably HTML).\n",
            "\n",
            "            You can specify the export format with `--to`.\n",
            "            Options include ['asciidoc', 'custom', 'html', 'latex', 'markdown', 'notebook', 'pdf', 'python', 'rst', 'script', 'slides'].\n",
            "\n",
            "            > jupyter nbconvert --to latex mynotebook.ipynb\n",
            "\n",
            "            Both HTML and LaTeX support multiple output templates. LaTeX includes\n",
            "            'base', 'article' and 'report'.  HTML includes 'basic' and 'full'. You\n",
            "            can specify the flavor of the format used.\n",
            "\n",
            "            > jupyter nbconvert --to html --template basic mynotebook.ipynb\n",
            "\n",
            "            You can also pipe the output to stdout, rather than a file\n",
            "\n",
            "            > jupyter nbconvert mynotebook.ipynb --stdout\n",
            "\n",
            "            PDF is generated via latex\n",
            "\n",
            "            > jupyter nbconvert mynotebook.ipynb --to pdf\n",
            "\n",
            "            You can get (and serve) a Reveal.js-powered slideshow\n",
            "\n",
            "            > jupyter nbconvert myslides.ipynb --to slides --post serve\n",
            "\n",
            "            Multiple notebooks can be given at the command line in a couple of \n",
            "            different ways:\n",
            "\n",
            "            > jupyter nbconvert notebook*.ipynb\n",
            "            > jupyter nbconvert notebook1.ipynb notebook2.ipynb\n",
            "\n",
            "            or you can specify the notebooks list in a config file, containing::\n",
            "\n",
            "                c.NbConvertApp.notebooks = [\"my_notebook.ipynb\"]\n",
            "\n",
            "            > jupyter nbconvert --config mycfg.py\n",
            "\n",
            "To see all available configurables, use `--help-all`.\n",
            "\n"
          ]
        }
      ]
    }
  ]
}